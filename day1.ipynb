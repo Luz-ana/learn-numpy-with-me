{
 "cells": [
  {
   "cell_type": "code",
   "execution_count": 22,
   "id": "5b473fc3-aabf-434a-a5a6-44fa9a95e5fc",
   "metadata": {},
   "outputs": [],
   "source": [
    "import numpy as np"
   ]
  },
  {
   "cell_type": "code",
   "execution_count": null,
   "id": "33a4830d-bba1-48a4-8232-dfa3b2ee394f",
   "metadata": {},
   "outputs": [],
   "source": [
    "##lets see 1d array "
   ]
  },
  {
   "cell_type": "code",
   "execution_count": 18,
   "id": "8baf0fbf-5cbd-4f02-8bdc-14a9de8f0be7",
   "metadata": {},
   "outputs": [
    {
     "name": "stdout",
     "output_type": "stream",
     "text": [
      "1d array is : [[1 2 3]\n",
      " [4 5 6]]\n"
     ]
    }
   ],
   "source": [
    "print(\"1d array is :\",array)"
   ]
  },
  {
   "cell_type": "code",
   "execution_count": 23,
   "id": "3b1669a4-4d72-4ea7-9ac6-c7a14865d462",
   "metadata": {},
   "outputs": [],
   "source": [
    "##now lets dive into 2d array"
   ]
  },
  {
   "cell_type": "code",
   "execution_count": 16,
   "id": "82aaa1d9-2d5a-459d-b791-88409b4d9e7a",
   "metadata": {},
   "outputs": [],
   "source": [
    "array = np.array([[1,2,3],\n",
    "                  [4,5,6]])"
   ]
  },
  {
   "cell_type": "code",
   "execution_count": 25,
   "id": "058a0a81-ece6-47b7-aa1f-56ced6d9c90e",
   "metadata": {},
   "outputs": [
    {
     "name": "stdout",
     "output_type": "stream",
     "text": [
      "2d_array is : [[1 2 3]\n",
      " [4 5 6]]\n"
     ]
    }
   ],
   "source": [
    "print(\"2d_array is :\",array)"
   ]
  },
  {
   "cell_type": "code",
   "execution_count": 28,
   "id": "9f708c66-5574-4f95-a601-151c5a07bcbc",
   "metadata": {},
   "outputs": [],
   "source": [
    "### lets see nthe difference between list and numpy array\n",
    "##list"
   ]
  },
  {
   "cell_type": "code",
   "execution_count": 41,
   "id": "af214788-bef9-43c1-9af2-4982dd500ba4",
   "metadata": {},
   "outputs": [
    {
     "name": "stdout",
     "output_type": "stream",
     "text": [
      "[2, 4, 6, 8, 10]\n"
     ]
    }
   ],
   "source": [
    "list = [1,2,3,4,5]\n",
    "print([i*2 for i in list])"
   ]
  },
  {
   "cell_type": "code",
   "execution_count": 42,
   "id": "5fa5d6f3-1258-4a60-95e5-4f24235adebd",
   "metadata": {},
   "outputs": [],
   "source": [
    "##array in numpy"
   ]
  },
  {
   "cell_type": "code",
   "execution_count": 44,
   "id": "0ff71930-084a-43af-9596-ca38f0295b9b",
   "metadata": {},
   "outputs": [
    {
     "name": "stdout",
     "output_type": "stream",
     "text": [
      "[ 2  4  6  8 10]\n"
     ]
    }
   ],
   "source": [
    "arr= np.array([1,2,3,4,5])\n",
    "print(arr*2)"
   ]
  },
  {
   "cell_type": "code",
   "execution_count": 45,
   "id": "9b7ca127-4efb-4ef7-b2d1-e0ea49917b66",
   "metadata": {},
   "outputs": [],
   "source": [
    "##lets see how much time difference is there in numpy array and list execution "
   ]
  },
  {
   "cell_type": "code",
   "execution_count": 48,
   "id": "094a1c27-6e0b-4b64-b682-2667fe754297",
   "metadata": {},
   "outputs": [],
   "source": [
    "import time "
   ]
  },
  {
   "cell_type": "code",
   "execution_count": 59,
   "id": "4ea0c1d3-f785-4e13-8c32-109e075e159f",
   "metadata": {},
   "outputs": [
    {
     "name": "stdout",
     "output_type": "stream",
     "text": [
      "0.671454906463623\n"
     ]
    }
   ],
   "source": [
    "l = [i for i in range(10000000)]\n",
    "start_time = time.time()\n",
    "squaring_each = [i*2 for i in l]\n",
    "time_pylist = time.time() - start_time\n",
    "print(time_pylist)"
   ]
  },
  {
   "cell_type": "code",
   "execution_count": 61,
   "id": "caadc98d-5538-4fa4-8676-00571443bfad",
   "metadata": {},
   "outputs": [
    {
     "name": "stdout",
     "output_type": "stream",
     "text": [
      "0.015511512756347656\n"
     ]
    }
   ],
   "source": [
    "l = np.arange(10000000)\n",
    "start_time = time.time()\n",
    "squaring_each = l*2\n",
    "time_pylist = time.time() - start_time\n",
    "print(time_pylist)"
   ]
  },
  {
   "cell_type": "code",
   "execution_count": 64,
   "id": "a83e5107-fb3e-49b9-ba12-bf0847fbe5a1",
   "metadata": {},
   "outputs": [],
   "source": [
    "#from above output its clear numpy makes things so much faster and easier \n",
    "\n",
    "### lets get to know about differenet ways to make constant values array in numpy"
   ]
  },
  {
   "cell_type": "code",
   "execution_count": 67,
   "id": "ec954fa1-e475-4357-819f-e338c4e8f1d4",
   "metadata": {},
   "outputs": [
    {
     "name": "stdout",
     "output_type": "stream",
     "text": [
      "zeros array : [[0. 0. 0.]\n",
      " [0. 0. 0.]]\n"
     ]
    }
   ],
   "source": [
    "zero_array = np.zeros((2,3))\n",
    "print(\"zeros array :\", zero_array)"
   ]
  },
  {
   "cell_type": "code",
   "execution_count": 69,
   "id": "b6dfae95-7431-4f84-8e15-5a896825c5c4",
   "metadata": {},
   "outputs": [
    {
     "name": "stdout",
     "output_type": "stream",
     "text": [
      "ones array is : [[1. 1. 1.]\n",
      " [1. 1. 1.]]\n"
     ]
    }
   ],
   "source": [
    "ones_array = np.ones((2,3))\n",
    "print(\"ones array is :\", ones_array)"
   ]
  },
  {
   "cell_type": "code",
   "execution_count": 73,
   "id": "89c30bfd-a930-4e4c-bb50-38da10f4f9e5",
   "metadata": {},
   "outputs": [
    {
     "name": "stdout",
     "output_type": "stream",
     "text": [
      "[[6 6 6]\n",
      " [6 6 6]\n",
      " [6 6 6]]\n"
     ]
    }
   ],
   "source": [
    "constant_array = np.full((3,3),6)\n",
    "print(constant_array)"
   ]
  },
  {
   "cell_type": "code",
   "execution_count": null,
   "id": "c7654ba3-b1b6-4430-b432-8a8f024781f2",
   "metadata": {},
   "outputs": [],
   "source": [
    "##random generates random number of given order matrix "
   ]
  },
  {
   "cell_type": "code",
   "execution_count": 77,
   "id": "1d6992c2-1684-44ea-b6a2-f092ea7ad4c4",
   "metadata": {},
   "outputs": [
    {
     "name": "stdout",
     "output_type": "stream",
     "text": [
      "[[0.94089102 0.5080077 ]\n",
      " [0.4233695  0.34888833]]\n"
     ]
    }
   ],
   "source": [
    "import random\n",
    "random_noarray = np.random.random((2,2))\n",
    "print(random_noarray)"
   ]
  },
  {
   "cell_type": "code",
   "execution_count": 82,
   "id": "3eb7a633-8d4e-4474-9b58-54d567dc5efa",
   "metadata": {},
   "outputs": [],
   "source": [
    "###arange "
   ]
  },
  {
   "cell_type": "code",
   "execution_count": 85,
   "id": "edcc5cf2-e02e-4186-b64c-af8694b7965c",
   "metadata": {},
   "outputs": [
    {
     "name": "stdout",
     "output_type": "stream",
     "text": [
      "[1 2 3 4 5 6 7 8 9]\n"
     ]
    }
   ],
   "source": [
    "arange_sequence = np.arange(1,10,1)\n",
    "print(arange_sequence)"
   ]
  },
  {
   "cell_type": "code",
   "execution_count": null,
   "id": "d00edc41-c271-49fb-8de0-23cf3f9e8437",
   "metadata": {},
   "outputs": [],
   "source": []
  }
 ],
 "metadata": {
  "kernelspec": {
   "display_name": "Python 3 (ipykernel)",
   "language": "python",
   "name": "python3"
  },
  "language_info": {
   "codemirror_mode": {
    "name": "ipython",
    "version": 3
   },
   "file_extension": ".py",
   "mimetype": "text/x-python",
   "name": "python",
   "nbconvert_exporter": "python",
   "pygments_lexer": "ipython3",
   "version": "3.12.1"
  }
 },
 "nbformat": 4,
 "nbformat_minor": 5
}
