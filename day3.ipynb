{
 "cells": [
  {
   "cell_type": "markdown",
   "id": "6da5ef75-b6df-4854-841d-139ab84f5d10",
   "metadata": {},
   "source": [
    "**array creation from other python methods"
   ]
  },
  {
   "cell_type": "code",
   "execution_count": 10,
   "id": "12a593b6-2f60-4b4b-90a5-485db8863480",
   "metadata": {},
   "outputs": [],
   "source": [
    "import numpy as np "
   ]
  },
  {
   "cell_type": "code",
   "execution_count": 24,
   "id": "f11cf02d-0bf3-4056-86b8-28426ebdcd24",
   "metadata": {},
   "outputs": [
    {
     "name": "stdout",
     "output_type": "stream",
     "text": [
      "[[ 1  2  3  4  5]\n",
      " [12 34 45  6  7]]\n"
     ]
    }
   ],
   "source": [
    "list1 = np.array([[1,2,3,4,5],\n",
    "                 [12,34,45,6,7]])\n",
    "print(list1)"
   ]
  },
  {
   "cell_type": "code",
   "execution_count": 16,
   "id": "00c54e8e-524a-4c76-a869-daae2dff460f",
   "metadata": {},
   "outputs": [
    {
     "data": {
      "text/plain": [
       "10"
      ]
     },
     "execution_count": 16,
     "metadata": {},
     "output_type": "execute_result"
    }
   ],
   "source": [
    "list.size"
   ]
  },
  {
   "cell_type": "code",
   "execution_count": 25,
   "id": "db6a43c4-0d4e-4628-94ae-f6ad433efb38",
   "metadata": {},
   "outputs": [
    {
     "name": "stdout",
     "output_type": "stream",
     "text": [
      "[[ 1  2]\n",
      " [ 3  4]\n",
      " [ 5 12]\n",
      " [34 45]\n",
      " [ 6  7]]\n"
     ]
    }
   ],
   "source": [
    "b = list1.reshape(5,2)\n",
    "print(b)"
   ]
  },
  {
   "cell_type": "code",
   "execution_count": 27,
   "id": "60f0188a-88ad-4bc4-952b-f7c9c2e0caa0",
   "metadata": {},
   "outputs": [],
   "source": [
    "##instrinsic array creation thorugh built-in objects"
   ]
  },
  {
   "cell_type": "code",
   "execution_count": 30,
   "id": "9243d730-35f7-4a58-8a26-a8514709369b",
   "metadata": {},
   "outputs": [
    {
     "name": "stdout",
     "output_type": "stream",
     "text": [
      "[1 3 5 7 9]\n"
     ]
    }
   ],
   "source": [
    "array = np.arange(1,10,2)\n",
    "print(array)"
   ]
  },
  {
   "cell_type": "code",
   "execution_count": 32,
   "id": "6b82bb74-78d3-44ba-b720-a6f76ff04e67",
   "metadata": {},
   "outputs": [
    {
     "name": "stdout",
     "output_type": "stream",
     "text": [
      "[[1. 1.]\n",
      " [1. 1.]]\n"
     ]
    }
   ],
   "source": [
    "array2 = np.ones((2,2))\n",
    "print(array2)"
   ]
  },
  {
   "cell_type": "code",
   "execution_count": 35,
   "id": "e3d20f76-fb12-4200-a6c1-982da6250bbc",
   "metadata": {},
   "outputs": [
    {
     "name": "stdout",
     "output_type": "stream",
     "text": [
      "[[0. 0. 0. 0. 0.]\n",
      " [0. 0. 0. 0. 0.]\n",
      " [0. 0. 0. 0. 0.]\n",
      " [0. 0. 0. 0. 0.]\n",
      " [0. 0. 0. 0. 0.]]\n"
     ]
    }
   ],
   "source": [
    "array3 = np.zeros((5,5))\n",
    "print(array3)"
   ]
  },
  {
   "cell_type": "code",
   "execution_count": 37,
   "id": "6cae5150-0ad2-4a19-bd6d-45a15e70d717",
   "metadata": {},
   "outputs": [
    {
     "name": "stdout",
     "output_type": "stream",
     "text": [
      "[[7 7 7]\n",
      " [7 7 7]\n",
      " [7 7 7]]\n"
     ]
    }
   ],
   "source": [
    "array4 = np.full((3,3),7)\n",
    "print(array4)"
   ]
  },
  {
   "cell_type": "code",
   "execution_count": 40,
   "id": "c2630dd6-3a3c-466b-b3c3-3e98c5002981",
   "metadata": {},
   "outputs": [
    {
     "name": "stdout",
     "output_type": "stream",
     "text": [
      "this prints values from 1 to 5 with equal spacing of 4 :  [1.         2.33333333 3.66666667 5.        ]\n"
     ]
    }
   ],
   "source": [
    "array5 = np.linspace(1,5,4)\n",
    "print(\"this prints values from 1 to 5 with equal spacing of 4 : \",array5)"
   ]
  },
  {
   "cell_type": "code",
   "execution_count": 48,
   "id": "c76024ea-ccd6-4d3d-af49-f53eec1a73df",
   "metadata": {},
   "outputs": [
    {
     "name": "stdout",
     "output_type": "stream",
     "text": [
      "[[1. 0.]\n",
      " [0. 1.]]\n",
      "(2, 2)\n"
     ]
    }
   ],
   "source": [
    "identity_matrix = np.identity(2)\n",
    "print(identity_matrix)\n",
    "print(identity_matrix.shape)"
   ]
  },
  {
   "cell_type": "code",
   "execution_count": 54,
   "id": "c6f37028-1a19-4c1d-a869-f1d512b40d12",
   "metadata": {},
   "outputs": [
    {
     "name": "stdout",
     "output_type": "stream",
     "text": [
      "[ 0  1  2  3  4  5  6  7  8  9 10 11 12 13 14 15 16 17 18 19 20 21 22 23\n",
      " 24 25 26 27 28 29 30 31 32 33 34 35 36 37 38 39 40 41 42 43 44 45 46 47\n",
      " 48 49]\n",
      "[[ 0  1  2  3  4  5  6  7  8  9 10 11 12 13 14 15 16 17 18 19 20 21 22 23\n",
      "  24]\n",
      " [25 26 27 28 29 30 31 32 33 34 35 36 37 38 39 40 41 42 43 44 45 46 47 48\n",
      "  49]]\n",
      "[ 0  1  2  3  4  5  6  7  8  9 10 11 12 13 14 15 16 17 18 19 20 21 22 23\n",
      " 24 25 26 27 28 29 30 31 32 33 34 35 36 37 38 39 40 41 42 43 44 45 46 47\n",
      " 48 49]\n"
     ]
    }
   ],
   "source": [
    "## we can reshape and undo the reshaping of that array \n",
    "a = np.arange(50)\n",
    "print(a)\n",
    "reshape = a.reshape(2,25)\n",
    "print(reshape)\n",
    "undo = reshape.ravel()\n",
    "print(undo)"
   ]
  },
  {
   "cell_type": "code",
   "execution_count": 60,
   "id": "ee4086e9-b45e-4f13-986f-a4737264f35b",
   "metadata": {},
   "outputs": [
    {
     "name": "stdout",
     "output_type": "stream",
     "text": [
      "[5 7 9]\n",
      "[ 6 15]\n"
     ]
    }
   ],
   "source": [
    "## we can apply operations rowwise or columnwise\n",
    "x = np.array([[1,2,3],\n",
    "             [4,5,6]])\n",
    "print(x.sum(axis = 0)) #3this is column wise 4+1 2+5 3+6\n",
    "\n",
    "print(x.sum(axis = 1))"
   ]
  },
  {
   "cell_type": "code",
   "execution_count": 63,
   "id": "59bc2f86-fd7f-4459-b09e-60149fd50122",
   "metadata": {},
   "outputs": [
    {
     "name": "stdout",
     "output_type": "stream",
     "text": [
      "[[1 4]\n",
      " [2 5]\n",
      " [3 6]]\n"
     ]
    }
   ],
   "source": [
    "print(x.T) # T is transpose that converts row into column and column into row "
   ]
  },
  {
   "cell_type": "code",
   "execution_count": 68,
   "id": "10930bdf-79ce-46b8-b240-72f058accdc7",
   "metadata": {},
   "outputs": [
    {
     "name": "stdout",
     "output_type": "stream",
     "text": [
      "[1 2 3]\n",
      "[4 5 6]\n",
      "1\n",
      "2\n",
      "3\n",
      "4\n",
      "5\n",
      "6\n"
     ]
    }
   ],
   "source": [
    "for i in x:\n",
    "    print(i)\n",
    "\n",
    "for i in x.flat:\n",
    "    print(i)\n"
   ]
  },
  {
   "cell_type": "code",
   "execution_count": 72,
   "id": "0459195e-e840-4af3-bcb7-db8c8da0e7b5",
   "metadata": {},
   "outputs": [
    {
     "name": "stdout",
     "output_type": "stream",
     "text": [
      "2\n",
      "6\n",
      "(2, 3)\n"
     ]
    }
   ],
   "source": [
    "print(x.ndim)\n",
    "print(x.size)\n",
    "print(x.shape)"
   ]
  },
  {
   "cell_type": "code",
   "execution_count": 74,
   "id": "c0014016-872d-4c9c-be95-01046358f1e6",
   "metadata": {},
   "outputs": [
    {
     "name": "stdout",
     "output_type": "stream",
     "text": [
      "24\n"
     ]
    }
   ],
   "source": [
    "#we can also know how much memory an array holds\n",
    "print(x.nbytes)"
   ]
  },
  {
   "cell_type": "code",
   "execution_count": 78,
   "id": "569313c3-95ac-4697-81ff-81c1f7865136",
   "metadata": {},
   "outputs": [
    {
     "name": "stdout",
     "output_type": "stream",
     "text": [
      "4\n",
      "0\n"
     ]
    }
   ],
   "source": [
    "l = np.array([1,2,3,5,6])\n",
    "print(l.argmax()) #max value index\n",
    "print(l.argmin()) #min value index"
   ]
  },
  {
   "cell_type": "code",
   "execution_count": 86,
   "id": "97b28a3a-f0ed-4cc8-9df1-57651ca8243d",
   "metadata": {},
   "outputs": [
    {
     "name": "stdout",
     "output_type": "stream",
     "text": [
      "[[0.17529903 0.45651453 0.41844959]\n",
      " [0.58467082 0.24285724 0.07940632]]\n",
      "[[0.17529903 0.41844959 0.45651453]\n",
      " [0.07940632 0.24285724 0.58467082]]\n"
     ]
    }
   ],
   "source": [
    "y = np.random.random((2,3))\n",
    "print(y)\n",
    "y.sort()\n",
    "print(y)"
   ]
  },
  {
   "cell_type": "code",
   "execution_count": 97,
   "id": "2c9c8c9b-a2a5-4d69-b365-36c0e3a445db",
   "metadata": {},
   "outputs": [
    {
     "name": "stdout",
     "output_type": "stream",
     "text": [
      "[0.41773934 0.14758302 0.01642634 0.83868783]\n",
      "[2 1 0 3]\n"
     ]
    }
   ],
   "source": [
    "z = np.random.random(4)\n",
    "print(z)\n",
    "\n",
    "print(z.argsort())\n"
   ]
  },
  {
   "cell_type": "code",
   "execution_count": 99,
   "id": "ed0fdcab-c494-4ce7-b9f5-81985d2c5a4d",
   "metadata": {},
   "outputs": [
    {
     "name": "stdout",
     "output_type": "stream",
     "text": [
      "[[0.6547933  0.57417284]\n",
      " [0.4047227  0.97463301]]\n",
      "[[1 0]\n",
      " [0 1]]\n",
      "[0 1]\n"
     ]
    }
   ],
   "source": [
    "##we can sort find max min using the arg and axis \n",
    "l = np.random.random((2,2))\n",
    "print(l)\n",
    "print(l.argsort(axis = 1))\n",
    "print(l.argmax(axis = 0))"
   ]
  }
 ],
 "metadata": {
  "kernelspec": {
   "display_name": "Python 3 (ipykernel)",
   "language": "python",
   "name": "python3"
  },
  "language_info": {
   "codemirror_mode": {
    "name": "ipython",
    "version": 3
   },
   "file_extension": ".py",
   "mimetype": "text/x-python",
   "name": "python",
   "nbconvert_exporter": "python",
   "pygments_lexer": "ipython3",
   "version": "3.12.1"
  }
 },
 "nbformat": 4,
 "nbformat_minor": 5
}
