{
 "cells": [
  {
   "cell_type": "code",
   "execution_count": 6,
   "id": "15abb25c-81a6-4104-ac28-3ad21cb51fdf",
   "metadata": {},
   "outputs": [],
   "source": [
    "import sys "
   ]
  },
  {
   "cell_type": "code",
   "execution_count": 8,
   "id": "5f8f6955-851d-4e76-8947-c5de3ccc2a99",
   "metadata": {},
   "outputs": [],
   "source": [
    "import numpy as np"
   ]
  },
  {
   "cell_type": "code",
   "execution_count": 10,
   "id": "15a1ad9c-c920-4f9f-867b-8ddf8f2fc934",
   "metadata": {},
   "outputs": [],
   "source": [
    "array = np.array([1,2,3,4,5])"
   ]
  },
  {
   "cell_type": "code",
   "execution_count": 13,
   "id": "cb36bb5c-9e97-4b01-8f77-654e4bf263f2",
   "metadata": {},
   "outputs": [
    {
     "name": "stdout",
     "output_type": "stream",
     "text": [
      "132\n"
     ]
    }
   ],
   "source": [
    "print(sys.getsizeof(array)) #this sys is a library inbuilt into python and it help for task like memory platform"
   ]
  },
  {
   "cell_type": "code",
   "execution_count": 15,
   "id": "95c47d28-1f0b-45ca-bcef-f052d4e7c1fc",
   "metadata": {},
   "outputs": [
    {
     "name": "stdout",
     "output_type": "stream",
     "text": [
      "5\n"
     ]
    }
   ],
   "source": [
    "print(np.size(array))"
   ]
  },
  {
   "cell_type": "code",
   "execution_count": 17,
   "id": "492e2064-5e80-40bd-a6ff-b15c0e01f0c4",
   "metadata": {},
   "outputs": [],
   "source": [
    "##the  main difference between these two size of sys=> getsizeof gives the total size of the elements + metadata  np.size=> just the number of elements"
   ]
  },
  {
   "cell_type": "code",
   "execution_count": 19,
   "id": "0b16b45b-4035-4c03-810a-3606bf7638a5",
   "metadata": {},
   "outputs": [
    {
     "name": "stdout",
     "output_type": "stream",
     "text": [
      "104\n",
      "132\n"
     ]
    }
   ],
   "source": [
    "list = [1,2,3,4,5]\n",
    "print(sys.getsizeof(list))\n",
    "\n",
    "array = np.array(list)\n",
    "print(sys.getsizeof(array))"
   ]
  }
 ],
 "metadata": {
  "kernelspec": {
   "display_name": "Python 3 (ipykernel)",
   "language": "python",
   "name": "python3"
  },
  "language_info": {
   "codemirror_mode": {
    "name": "ipython",
    "version": 3
   },
   "file_extension": ".py",
   "mimetype": "text/x-python",
   "name": "python",
   "nbconvert_exporter": "python",
   "pygments_lexer": "ipython3",
   "version": "3.12.1"
  }
 },
 "nbformat": 4,
 "nbformat_minor": 5
}
