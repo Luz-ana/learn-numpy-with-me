{
 "cells": [
  {
   "cell_type": "code",
   "execution_count": 2,
   "id": "2391f0d7-11c1-447a-8a81-341ca47c5e5b",
   "metadata": {},
   "outputs": [],
   "source": [
    "import numpy as np"
   ]
  },
  {
   "cell_type": "code",
   "execution_count": 22,
   "id": "b4399700-fff6-4707-a3e3-61f7bf5f08db",
   "metadata": {},
   "outputs": [],
   "source": [
    "### VECTOR , MATRIX , TENSOR"
   ]
  },
  {
   "cell_type": "code",
   "execution_count": 23,
   "id": "5ac81df4-2b90-4f85-8430-a3ebcbbc6289",
   "metadata": {},
   "outputs": [
    {
     "name": "stdout",
     "output_type": "stream",
     "text": [
      "vector:  [1, 2, 3, 4]\n"
     ]
    }
   ],
   "source": [
    "vector = [1,2,3,4]\n",
    "print(\"vector: \",vector)"
   ]
  },
  {
   "cell_type": "code",
   "execution_count": 24,
   "id": "6d39e968-949a-4679-a474-046edd093b1b",
   "metadata": {},
   "outputs": [
    {
     "name": "stdout",
     "output_type": "stream",
     "text": [
      "matrix:  [[1, 2, 3], [4, 5, 6]]\n"
     ]
    }
   ],
   "source": [
    "matrix = [[1,2,3],[4,5,6]]\n",
    "print(\"matrix: \",matrix)"
   ]
  },
  {
   "cell_type": "code",
   "execution_count": 25,
   "id": "798bc40b-21b9-4992-8be0-8114eddb5598",
   "metadata": {},
   "outputs": [
    {
     "name": "stdout",
     "output_type": "stream",
     "text": [
      "[[[1, 2, 3], [4, 5, 6]], [[7, 8, 9], [10, 11, 12]]]\n"
     ]
    }
   ],
   "source": [
    "tensor = [[[1,2,3],[4,5,6]], ##this is first matrix with 2 rows 3 colums\n",
    "         [[7,8,9],[10,11,12]]] ##second matrix with 2 rows 3 colums\n",
    "##whenever this matrix gets stacked up that gives more than 2 dimensions\n",
    "print(tensor)"
   ]
  },
  {
   "cell_type": "code",
   "execution_count": 26,
   "id": "10c25358-e5d9-46f2-a65b-66835118cd4d",
   "metadata": {},
   "outputs": [],
   "source": [
    "## array properties"
   ]
  },
  {
   "cell_type": "code",
   "execution_count": 34,
   "id": "9b4f4b7b-289a-4fdf-965a-62f5136c4eb0",
   "metadata": {},
   "outputs": [
    {
     "name": "stdout",
     "output_type": "stream",
     "text": [
      "(2, 4)\n"
     ]
    }
   ],
   "source": [
    "#shape gives number of rows and columns\n",
    "array = np.array([[1,2,3,4],\n",
    "                  [2,3,4,5]])\n",
    "print(array.shape)"
   ]
  },
  {
   "cell_type": "code",
   "execution_count": 39,
   "id": "fce46077-52f3-464d-8944-e2c559867156",
   "metadata": {},
   "outputs": [
    {
     "name": "stdout",
     "output_type": "stream",
     "text": [
      "3\n",
      "2\n"
     ]
    }
   ],
   "source": [
    "#dimension :=> it gives dimension of the array\n",
    "a = np.array([[1,2,3],[1,1,1]])\n",
    "tensor = np.array([[[1,2,3],[4,5,6]], ##this is first matrix with 2 rows 3 colums\n",
    "         [[7,8,9],[10,11,12]]])\n",
    "print(tensor.ndim)\n",
    "print(a.ndim)"
   ]
  },
  {
   "cell_type": "code",
   "execution_count": 44,
   "id": "050f9874-71d6-4fa1-b8a3-5a1aa5a69169",
   "metadata": {},
   "outputs": [
    {
     "name": "stdout",
     "output_type": "stream",
     "text": [
      "[[0. 0. 0.]\n",
      " [0. 0. 0.]]\n",
      "6\n"
     ]
    }
   ],
   "source": [
    "#size :-> it gives number of data in an array \n",
    "a = np.zeros((2,3))\n",
    "print(a)\n",
    "print(a.size)"
   ]
  },
  {
   "cell_type": "code",
   "execution_count": 45,
   "id": "41270de7-85e2-43bd-aa04-9d1aa8095741",
   "metadata": {},
   "outputs": [
    {
     "name": "stdout",
     "output_type": "stream",
     "text": [
      "int32\n"
     ]
    }
   ],
   "source": [
    "#datatype /dtype => gives the data type of the list \n",
    "l = np.array([[[1,2,3],[4,5,6]], ##this is first matrix with 2 rows 3 colums\n",
    "         [[7,8,9],[10,11,12]]])\n",
    "print(l.dtype)"
   ]
  },
  {
   "cell_type": "code",
   "execution_count": 3,
   "id": "73ec64d4",
   "metadata": {},
   "outputs": [
    {
     "name": "stdout",
     "output_type": "stream",
     "text": [
      "[[ 0  1  2]\n",
      " [ 3  4  5]\n",
      " [ 6  7  8]\n",
      " [ 9 10 11]]\n"
     ]
    }
   ],
   "source": [
    "\n",
    "##ARRAY RESHaping\n",
    "l = np.arange(12)\n",
    "reshaped = l.reshape((4,3))\n",
    "print(reshaped)"
   ]
  },
  {
   "cell_type": "markdown",
   "id": "53e58a0d",
   "metadata": {},
   "source": []
  }
 ],
 "metadata": {
  "kernelspec": {
   "display_name": "Python 3 (ipykernel)",
   "language": "python",
   "name": "python3"
  },
  "language_info": {
   "codemirror_mode": {
    "name": "ipython",
    "version": 3
   },
   "file_extension": ".py",
   "mimetype": "text/x-python",
   "name": "python",
   "nbconvert_exporter": "python",
   "pygments_lexer": "ipython3",
   "version": "3.12.1"
  }
 },
 "nbformat": 4,
 "nbformat_minor": 5
}
