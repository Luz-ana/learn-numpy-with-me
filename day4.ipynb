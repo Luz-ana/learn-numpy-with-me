{
 "cells": [
  {
   "cell_type": "code",
   "execution_count": 2,
   "id": "f3a94287-06bb-482b-9bc7-f2465672f821",
   "metadata": {},
   "outputs": [],
   "source": [
    "#mathematical operations in numpy that can be done in simplest way unlike list operations in python"
   ]
  },
  {
   "cell_type": "code",
   "execution_count": 6,
   "id": "a040d6bd-acf5-49c0-928b-0747d664190a",
   "metadata": {},
   "outputs": [],
   "source": [
    "import numpy as np "
   ]
  },
  {
   "cell_type": "code",
   "execution_count": 10,
   "id": "7ae9ec8c-d425-471f-80e9-890e4ef4f32b",
   "metadata": {},
   "outputs": [
    {
     "name": "stdout",
     "output_type": "stream",
     "text": [
      "[[2 3]\n",
      " [4 5]]\n",
      "[[1 2]\n",
      " [3 4]]\n"
     ]
    }
   ],
   "source": [
    "arr1 = np.array ([[1,2],\n",
    "                [3,4]])\n",
    "arr2 = np.array([[1,1],\n",
    "                 [1,1]])\n",
    "\n",
    "print(arr1+arr2)\n",
    "print(arr1 *arr2)"
   ]
  },
  {
   "cell_type": "code",
   "execution_count": 14,
   "id": "b6d223f4-4c7b-45e9-834d-e6d296563e19",
   "metadata": {},
   "outputs": [
    {
     "name": "stdout",
     "output_type": "stream",
     "text": [
      "[[1.         1.41421356]\n",
      " [1.73205081 2.        ]]\n"
     ]
    }
   ],
   "source": [
    "square_root = np.sqrt(arr1)\n",
    "print(square_root)"
   ]
  },
  {
   "cell_type": "code",
   "execution_count": 16,
   "id": "9d7e52e3-4d01-406c-93a3-ba243fbb269e",
   "metadata": {},
   "outputs": [
    {
     "name": "stdout",
     "output_type": "stream",
     "text": [
      "1\n",
      "4\n"
     ]
    }
   ],
   "source": [
    "print(arr1.min())\n",
    "print(arr1.max())"
   ]
  },
  {
   "cell_type": "code",
   "execution_count": 17,
   "id": "7042e3f0-0914-409e-b191-e4f6535fefef",
   "metadata": {},
   "outputs": [
    {
     "name": "stdout",
     "output_type": "stream",
     "text": [
      "[[1 2]\n",
      " [3 4]]\n"
     ]
    }
   ],
   "source": [
    "print(arr1)\n"
   ]
  },
  {
   "cell_type": "code",
   "execution_count": 21,
   "id": "7dee7564-a37c-435d-81d1-9bb28802b553",
   "metadata": {},
   "outputs": [
    {
     "name": "stdout",
     "output_type": "stream",
     "text": [
      "<class 'tuple'>\n"
     ]
    }
   ],
   "source": [
    "print(type(np.where(arr1>=2)))"
   ]
  },
  {
   "cell_type": "code",
   "execution_count": 24,
   "id": "3ddfd80f-137b-4458-915b-9ede35e257a7",
   "metadata": {},
   "outputs": [
    {
     "name": "stdout",
     "output_type": "stream",
     "text": [
      "(array([0, 1, 1], dtype=int64), array([1, 0, 1], dtype=int64))\n"
     ]
    }
   ],
   "source": [
    "print((np.where(arr1>=2)))"
   ]
  },
  {
   "cell_type": "code",
   "execution_count": 27,
   "id": "d24d8196-5b01-492c-be9f-9c225149baee",
   "metadata": {},
   "outputs": [
    {
     "name": "stdout",
     "output_type": "stream",
     "text": [
      "6\n",
      "(array([0, 0, 0, 1, 1, 1], dtype=int64), array([0, 1, 2, 0, 1, 2], dtype=int64))\n"
     ]
    }
   ],
   "source": [
    "ar = np.array([[1,2,3],\n",
    "              [2,3,4]])\n",
    "print(np.count_nonzero(ar))\n",
    "print(np.nonzero(ar))"
   ]
  },
  {
   "cell_type": "code",
   "execution_count": null,
   "id": "0703cb08-ced4-4a52-b842-ccf3a6b0746f",
   "metadata": {},
   "outputs": [],
   "source": []
  }
 ],
 "metadata": {
  "kernelspec": {
   "display_name": "Python 3 (ipykernel)",
   "language": "python",
   "name": "python3"
  },
  "language_info": {
   "codemirror_mode": {
    "name": "ipython",
    "version": 3
   },
   "file_extension": ".py",
   "mimetype": "text/x-python",
   "name": "python",
   "nbconvert_exporter": "python",
   "pygments_lexer": "ipython3",
   "version": "3.12.1"
  }
 },
 "nbformat": 4,
 "nbformat_minor": 5
}
